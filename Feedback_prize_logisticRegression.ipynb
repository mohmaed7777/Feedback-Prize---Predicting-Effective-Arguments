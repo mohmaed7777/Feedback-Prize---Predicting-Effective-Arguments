{
  "nbformat": 4,
  "nbformat_minor": 0,
  "metadata": {
    "colab": {
      "name": "Feedback-prize-logisticRegression.ipynb",
      "provenance": [],
      "collapsed_sections": [],
      "authorship_tag": "ABX9TyP5StCCpQBZBipQpwgV3e1t",
      "include_colab_link": true
    },
    "kernelspec": {
      "name": "python3",
      "display_name": "Python 3"
    },
    "language_info": {
      "name": "python"
    }
  },
  "cells": [
    {
      "cell_type": "markdown",
      "metadata": {
        "id": "view-in-github",
        "colab_type": "text"
      },
      "source": [
        "<a href=\"https://colab.research.google.com/github/mohmaed7777/Feedback-Prize---Predicting-Effective-Arguments/blob/main/Feedback_prize_logisticRegression.ipynb\" target=\"_parent\"><img src=\"https://colab.research.google.com/assets/colab-badge.svg\" alt=\"Open In Colab\"/></a>"
      ]
    },
    {
      "cell_type": "code",
      "execution_count": 1,
      "metadata": {
        "id": "2GYCjbX5xtqE",
        "outputId": "aa853090-3700-4a65-c85e-9b07688a983c",
        "colab": {
          "base_uri": "https://localhost:8080/"
        }
      },
      "outputs": [
        {
          "output_type": "stream",
          "name": "stdout",
          "text": [
            "Looking in indexes: https://pypi.org/simple, https://us-python.pkg.dev/colab-wheels/public/simple/\n",
            "Requirement already satisfied: kaggle in /usr/local/lib/python3.7/dist-packages (1.5.12)\n",
            "Requirement already satisfied: requests in /usr/local/lib/python3.7/dist-packages (from kaggle) (2.23.0)\n",
            "Requirement already satisfied: python-dateutil in /usr/local/lib/python3.7/dist-packages (from kaggle) (2.8.2)\n",
            "Requirement already satisfied: certifi in /usr/local/lib/python3.7/dist-packages (from kaggle) (2022.6.15)\n",
            "Requirement already satisfied: tqdm in /usr/local/lib/python3.7/dist-packages (from kaggle) (4.64.0)\n",
            "Requirement already satisfied: six>=1.10 in /usr/local/lib/python3.7/dist-packages (from kaggle) (1.15.0)\n",
            "Requirement already satisfied: urllib3 in /usr/local/lib/python3.7/dist-packages (from kaggle) (1.24.3)\n",
            "Requirement already satisfied: python-slugify in /usr/local/lib/python3.7/dist-packages (from kaggle) (6.1.2)\n",
            "Requirement already satisfied: text-unidecode>=1.3 in /usr/local/lib/python3.7/dist-packages (from python-slugify->kaggle) (1.3)\n",
            "Requirement already satisfied: idna<3,>=2.5 in /usr/local/lib/python3.7/dist-packages (from requests->kaggle) (2.10)\n",
            "Requirement already satisfied: chardet<4,>=3.0.2 in /usr/local/lib/python3.7/dist-packages (from requests->kaggle) (3.0.4)\n"
          ]
        }
      ],
      "source": [
        "! pip install kaggle"
      ]
    },
    {
      "cell_type": "code",
      "source": [
        "!mkdir ~/.kaggle"
      ],
      "metadata": {
        "id": "V1ahPuixyZeL"
      },
      "execution_count": 2,
      "outputs": []
    },
    {
      "cell_type": "code",
      "source": [
        "! cp kaggle.json ~/.kaggle/"
      ],
      "metadata": {
        "id": "v_-cOWvsymP4"
      },
      "execution_count": 3,
      "outputs": []
    },
    {
      "cell_type": "code",
      "source": [
        "! chmod 600 ~/.kaggle/kaggle.json"
      ],
      "metadata": {
        "id": "p-g1rCx3ytfg"
      },
      "execution_count": 4,
      "outputs": []
    },
    {
      "cell_type": "code",
      "source": [
        "! kaggle competitions download -c feedback-prize-effectiveness"
      ],
      "metadata": {
        "colab": {
          "base_uri": "https://localhost:8080/"
        },
        "id": "lGIYrabVyxL3",
        "outputId": "08f23641-592a-4e25-e0d8-429e801b3857"
      },
      "execution_count": 5,
      "outputs": [
        {
          "output_type": "stream",
          "name": "stdout",
          "text": [
            "Downloading feedback-prize-effectiveness.zip to /content\n",
            "\r  0% 0.00/8.13M [00:00<?, ?B/s]\n",
            "\r100% 8.13M/8.13M [00:00<00:00, 164MB/s]\n"
          ]
        }
      ]
    },
    {
      "cell_type": "code",
      "source": [
        "! unzip feedback-prize-effectiveness.zip"
      ],
      "metadata": {
        "id": "zyiEsjUhyxJU"
      },
      "execution_count": null,
      "outputs": []
    },
    {
      "cell_type": "code",
      "source": [
        "# importing step: \n",
        "import numpy as np \n",
        "import pandas  as pd \n",
        "from sklearn.model_selection import StratifiedKFold\n",
        "from sklearn.feature_extraction.text import TfidfVectorizer\n",
        "from sklearn.preprocessing import OneHotEncoder, LabelEncoder\n",
        "from scipy import sparse\n",
        "from sklearn.linear_model import LogisticRegression\n",
        "from sklearn.metrics import log_loss"
      ],
      "metadata": {
        "id": "wwgHHFfOyxEa"
      },
      "execution_count": 7,
      "outputs": []
    },
    {
      "cell_type": "code",
      "source": [
        "NFOLDs = 15"
      ],
      "metadata": {
        "id": "kAcSn98Cz2bT"
      },
      "execution_count": 8,
      "outputs": []
    },
    {
      "cell_type": "code",
      "source": [
        "train_df = pd.read_csv('/content/train.csv')\n",
        "test_df = pd.read_csv('/content/test.csv')"
      ],
      "metadata": {
        "id": "gVn0T99Mz-Sq"
      },
      "execution_count": 9,
      "outputs": []
    },
    {
      "cell_type": "code",
      "source": [
        "train_df['text'] = train_df['essay_id'].apply(lambda x: open(f'/content/train/{x}.txt').read())\n",
        "test_df['text'] = test_df['essay_id'].apply(lambda x: open(f'/content/test/{x}.txt').read())\n"
      ],
      "metadata": {
        "id": "txhArkpz0ZeU"
      },
      "execution_count": 10,
      "outputs": []
    },
    {
      "cell_type": "code",
      "source": [
        "train_df.tail()"
      ],
      "metadata": {
        "colab": {
          "base_uri": "https://localhost:8080/",
          "height": 424
        },
        "id": "s2Dj4WGl2JaL",
        "outputId": "1626ccf8-3f85-492b-c4d9-0a76c212c433"
      },
      "execution_count": 11,
      "outputs": [
        {
          "output_type": "execute_result",
          "data": {
            "text/plain": [
              "       discourse_id      essay_id  \\\n",
              "36760  9f63b687e76a  FFA381E58FC6   \n",
              "36761  9d5bd7d86212  FFA381E58FC6   \n",
              "36762  f1b78becd573  FFA381E58FC6   \n",
              "36763  cc184624ca8e  FFA381E58FC6   \n",
              "36764  c8a973681feb  FFA381E58FC6   \n",
              "\n",
              "                                          discourse_text  \\\n",
              "36760  For many people they don't like only asking on...   \n",
              "36761  also people have different views and opinions ...   \n",
              "36762  Advice is something that can impact a persons ...   \n",
              "36763  someone can use everything that many people sa...   \n",
              "36764  In conclusion asking for an opinion can be ben...   \n",
              "\n",
              "             discourse_type discourse_effectiveness  \\\n",
              "36760                 Claim                Adequate   \n",
              "36761                 Claim                Adequate   \n",
              "36762              Position                Adequate   \n",
              "36763              Evidence             Ineffective   \n",
              "36764  Concluding Statement             Ineffective   \n",
              "\n",
              "                                                    text  \n",
              "36760  Some people may ask multiple people for advice...  \n",
              "36761  Some people may ask multiple people for advice...  \n",
              "36762  Some people may ask multiple people for advice...  \n",
              "36763  Some people may ask multiple people for advice...  \n",
              "36764  Some people may ask multiple people for advice...  "
            ],
            "text/html": [
              "\n",
              "  <div id=\"df-e3c0286b-30fe-414b-abbf-5e35baaaeaa8\">\n",
              "    <div class=\"colab-df-container\">\n",
              "      <div>\n",
              "<style scoped>\n",
              "    .dataframe tbody tr th:only-of-type {\n",
              "        vertical-align: middle;\n",
              "    }\n",
              "\n",
              "    .dataframe tbody tr th {\n",
              "        vertical-align: top;\n",
              "    }\n",
              "\n",
              "    .dataframe thead th {\n",
              "        text-align: right;\n",
              "    }\n",
              "</style>\n",
              "<table border=\"1\" class=\"dataframe\">\n",
              "  <thead>\n",
              "    <tr style=\"text-align: right;\">\n",
              "      <th></th>\n",
              "      <th>discourse_id</th>\n",
              "      <th>essay_id</th>\n",
              "      <th>discourse_text</th>\n",
              "      <th>discourse_type</th>\n",
              "      <th>discourse_effectiveness</th>\n",
              "      <th>text</th>\n",
              "    </tr>\n",
              "  </thead>\n",
              "  <tbody>\n",
              "    <tr>\n",
              "      <th>36760</th>\n",
              "      <td>9f63b687e76a</td>\n",
              "      <td>FFA381E58FC6</td>\n",
              "      <td>For many people they don't like only asking on...</td>\n",
              "      <td>Claim</td>\n",
              "      <td>Adequate</td>\n",
              "      <td>Some people may ask multiple people for advice...</td>\n",
              "    </tr>\n",
              "    <tr>\n",
              "      <th>36761</th>\n",
              "      <td>9d5bd7d86212</td>\n",
              "      <td>FFA381E58FC6</td>\n",
              "      <td>also people have different views and opinions ...</td>\n",
              "      <td>Claim</td>\n",
              "      <td>Adequate</td>\n",
              "      <td>Some people may ask multiple people for advice...</td>\n",
              "    </tr>\n",
              "    <tr>\n",
              "      <th>36762</th>\n",
              "      <td>f1b78becd573</td>\n",
              "      <td>FFA381E58FC6</td>\n",
              "      <td>Advice is something that can impact a persons ...</td>\n",
              "      <td>Position</td>\n",
              "      <td>Adequate</td>\n",
              "      <td>Some people may ask multiple people for advice...</td>\n",
              "    </tr>\n",
              "    <tr>\n",
              "      <th>36763</th>\n",
              "      <td>cc184624ca8e</td>\n",
              "      <td>FFA381E58FC6</td>\n",
              "      <td>someone can use everything that many people sa...</td>\n",
              "      <td>Evidence</td>\n",
              "      <td>Ineffective</td>\n",
              "      <td>Some people may ask multiple people for advice...</td>\n",
              "    </tr>\n",
              "    <tr>\n",
              "      <th>36764</th>\n",
              "      <td>c8a973681feb</td>\n",
              "      <td>FFA381E58FC6</td>\n",
              "      <td>In conclusion asking for an opinion can be ben...</td>\n",
              "      <td>Concluding Statement</td>\n",
              "      <td>Ineffective</td>\n",
              "      <td>Some people may ask multiple people for advice...</td>\n",
              "    </tr>\n",
              "  </tbody>\n",
              "</table>\n",
              "</div>\n",
              "      <button class=\"colab-df-convert\" onclick=\"convertToInteractive('df-e3c0286b-30fe-414b-abbf-5e35baaaeaa8')\"\n",
              "              title=\"Convert this dataframe to an interactive table.\"\n",
              "              style=\"display:none;\">\n",
              "        \n",
              "  <svg xmlns=\"http://www.w3.org/2000/svg\" height=\"24px\"viewBox=\"0 0 24 24\"\n",
              "       width=\"24px\">\n",
              "    <path d=\"M0 0h24v24H0V0z\" fill=\"none\"/>\n",
              "    <path d=\"M18.56 5.44l.94 2.06.94-2.06 2.06-.94-2.06-.94-.94-2.06-.94 2.06-2.06.94zm-11 1L8.5 8.5l.94-2.06 2.06-.94-2.06-.94L8.5 2.5l-.94 2.06-2.06.94zm10 10l.94 2.06.94-2.06 2.06-.94-2.06-.94-.94-2.06-.94 2.06-2.06.94z\"/><path d=\"M17.41 7.96l-1.37-1.37c-.4-.4-.92-.59-1.43-.59-.52 0-1.04.2-1.43.59L10.3 9.45l-7.72 7.72c-.78.78-.78 2.05 0 2.83L4 21.41c.39.39.9.59 1.41.59.51 0 1.02-.2 1.41-.59l7.78-7.78 2.81-2.81c.8-.78.8-2.07 0-2.86zM5.41 20L4 18.59l7.72-7.72 1.47 1.35L5.41 20z\"/>\n",
              "  </svg>\n",
              "      </button>\n",
              "      \n",
              "  <style>\n",
              "    .colab-df-container {\n",
              "      display:flex;\n",
              "      flex-wrap:wrap;\n",
              "      gap: 12px;\n",
              "    }\n",
              "\n",
              "    .colab-df-convert {\n",
              "      background-color: #E8F0FE;\n",
              "      border: none;\n",
              "      border-radius: 50%;\n",
              "      cursor: pointer;\n",
              "      display: none;\n",
              "      fill: #1967D2;\n",
              "      height: 32px;\n",
              "      padding: 0 0 0 0;\n",
              "      width: 32px;\n",
              "    }\n",
              "\n",
              "    .colab-df-convert:hover {\n",
              "      background-color: #E2EBFA;\n",
              "      box-shadow: 0px 1px 2px rgba(60, 64, 67, 0.3), 0px 1px 3px 1px rgba(60, 64, 67, 0.15);\n",
              "      fill: #174EA6;\n",
              "    }\n",
              "\n",
              "    [theme=dark] .colab-df-convert {\n",
              "      background-color: #3B4455;\n",
              "      fill: #D2E3FC;\n",
              "    }\n",
              "\n",
              "    [theme=dark] .colab-df-convert:hover {\n",
              "      background-color: #434B5C;\n",
              "      box-shadow: 0px 1px 3px 1px rgba(0, 0, 0, 0.15);\n",
              "      filter: drop-shadow(0px 1px 2px rgba(0, 0, 0, 0.3));\n",
              "      fill: #FFFFFF;\n",
              "    }\n",
              "  </style>\n",
              "\n",
              "      <script>\n",
              "        const buttonEl =\n",
              "          document.querySelector('#df-e3c0286b-30fe-414b-abbf-5e35baaaeaa8 button.colab-df-convert');\n",
              "        buttonEl.style.display =\n",
              "          google.colab.kernel.accessAllowed ? 'block' : 'none';\n",
              "\n",
              "        async function convertToInteractive(key) {\n",
              "          const element = document.querySelector('#df-e3c0286b-30fe-414b-abbf-5e35baaaeaa8');\n",
              "          const dataTable =\n",
              "            await google.colab.kernel.invokeFunction('convertToInteractive',\n",
              "                                                     [key], {});\n",
              "          if (!dataTable) return;\n",
              "\n",
              "          const docLinkHtml = 'Like what you see? Visit the ' +\n",
              "            '<a target=\"_blank\" href=https://colab.research.google.com/notebooks/data_table.ipynb>data table notebook</a>'\n",
              "            + ' to learn more about interactive tables.';\n",
              "          element.innerHTML = '';\n",
              "          dataTable['output_type'] = 'display_data';\n",
              "          await google.colab.output.renderOutput(dataTable, element);\n",
              "          const docLink = document.createElement('div');\n",
              "          docLink.innerHTML = docLinkHtml;\n",
              "          element.appendChild(docLink);\n",
              "        }\n",
              "      </script>\n",
              "    </div>\n",
              "  </div>\n",
              "  "
            ]
          },
          "metadata": {},
          "execution_count": 11
        }
      ]
    },
    {
      "cell_type": "code",
      "source": [
        "effectiveness_map = {'Ineffective':0, 'Adequate':1, 'Effective':2}\n",
        "train_df['target'] = train_df['discourse_effectiveness'].map(effectiveness_map)"
      ],
      "metadata": {
        "id": "IcC_YOeb2JPZ"
      },
      "execution_count": 12,
      "outputs": []
    },
    {
      "cell_type": "code",
      "source": [
        "train_df = train_df.reset_index(drop=True)"
      ],
      "metadata": {
        "id": "sUhUP7wX2JMb"
      },
      "execution_count": 13,
      "outputs": []
    },
    {
      "cell_type": "code",
      "source": [
        "skfold = StratifiedKFold(n_splits=NFOLDs,shuffle=True,random_state=NFOLDs)\n",
        "for i,(train_index, test_index) in enumerate(skfold.split(train_df, train_df[\"target\"])):\n",
        "    train_df.loc[test_index,\"fold\"] = i\n",
        "print(train_df.fold.value_counts())   "
      ],
      "metadata": {
        "colab": {
          "base_uri": "https://localhost:8080/"
        },
        "id": "fw6uP6-n3HEj",
        "outputId": "2d829d9c-32a0-446f-8b34-5792aa881f31"
      },
      "execution_count": 14,
      "outputs": [
        {
          "output_type": "stream",
          "name": "stdout",
          "text": [
            "0.0     2451\n",
            "1.0     2451\n",
            "3.0     2451\n",
            "7.0     2451\n",
            "11.0    2451\n",
            "14.0    2451\n",
            "5.0     2451\n",
            "6.0     2451\n",
            "2.0     2451\n",
            "9.0     2451\n",
            "12.0    2451\n",
            "10.0    2451\n",
            "8.0     2451\n",
            "4.0     2451\n",
            "13.0    2451\n",
            "Name: fold, dtype: int64\n"
          ]
        }
      ]
    },
    {
      "cell_type": "code",
      "source": [
        "preds = []"
      ],
      "metadata": {
        "id": "CWIrbomd8HTc"
      },
      "execution_count": 15,
      "outputs": []
    },
    {
      "cell_type": "code",
      "source": [
        "for n_fold in range(NFOLDs):\n",
        "    dataset_tr_ = train_df[train_df['fold']!=n_fold] #use all the discourse_ids which are not marked by current fold index\n",
        "    dataset_eval_ = train_df[train_df['fold']==n_fold] #use current fold index rows as validation set\n",
        "         \n",
        "    # Training, Validation, and Test Dataset\n",
        "    #discourse_id\n",
        "    tf = TfidfVectorizer(ngram_range=(1,2),norm='l2', smooth_idf=True)\n",
        "    tr_discourse_tfidf = tf.fit_transform(dataset_tr_[\"discourse_text\"])\n",
        "    eval_discourse_tfidf = tf.transform(dataset_eval_[\"discourse_text\"])\n",
        "    te_discourse_tfidf = tf.transform(test_df[\"discourse_text\"])\n",
        "    \n",
        "    #text\n",
        "    tf = TfidfVectorizer(ngram_range=(1,2),norm='l2', smooth_idf=True) # Load tf another time because it will learn the new vocabulary for 'text'\n",
        "    tr_text_tfidf = tf.fit_transform(dataset_tr_[\"text\"])\n",
        "    eval_text_tfidf = tf.transform(dataset_eval_[\"text\"])\n",
        "    te_text_tfidf = tf.transform(test_df[\"text\"])\n",
        "    \n",
        "    #discourse_type\n",
        "    ohe = OneHotEncoder()\n",
        "    tr_type_ohe =  sparse.csr_matrix(ohe.fit_transform(dataset_tr_[\"discourse_type\"].values.reshape(-1,1)))\n",
        "    eval_type_ohe =  sparse.csr_matrix(ohe.transform(dataset_eval_[\"discourse_type\"].values.reshape(-1,1)))\n",
        "    te_type_ohe =  sparse.csr_matrix(ohe.transform(test_df[\"discourse_type\"].values.reshape(-1,1)))\n",
        "        \n",
        "    #Stack each vector representations \n",
        "    tr_tfidf = sparse.hstack((tr_type_ohe,tr_discourse_tfidf,tr_text_tfidf))\n",
        "    eval_tfidf = sparse.hstack((eval_type_ohe,eval_discourse_tfidf,eval_text_tfidf))\n",
        "    te_tfidf = sparse.hstack((te_type_ohe,te_discourse_tfidf,te_text_tfidf))\n",
        "    \n",
        "    #Model\n",
        "    clf = LogisticRegression(max_iter=1000,penalty=\"l2\",C=1.0131816333513533)\n",
        "    clf.fit(tr_tfidf, dataset_tr_[\"target\"].values)\n",
        "    \n",
        "    #Validation \n",
        "    ev_preds = clf.predict_proba(eval_tfidf)\n",
        "    ev_loss = log_loss(dataset_eval_[\"target\"].values,ev_preds)\n",
        "    print(\"Fold : {} EV score: {}\".format(n_fold,ev_loss))\n",
        "    \n",
        "    #Test\n",
        "    preds.append(clf.predict_proba(te_tfidf))"
      ],
      "metadata": {
        "id": "9aYPyGMk8HJk",
        "outputId": "92679063-3a10-455c-bac8-814697372190",
        "colab": {
          "base_uri": "https://localhost:8080/"
        }
      },
      "execution_count": 17,
      "outputs": [
        {
          "output_type": "stream",
          "name": "stdout",
          "text": [
            "Fold : 0 EV score: 0.6324456976392218\n",
            "Fold : 1 EV score: 0.6274001974649503\n",
            "Fold : 2 EV score: 0.6104012263762614\n",
            "Fold : 3 EV score: 0.6157701521744436\n",
            "Fold : 4 EV score: 0.6259435880861658\n",
            "Fold : 5 EV score: 0.61943120617009\n",
            "Fold : 6 EV score: 0.6110717931098326\n",
            "Fold : 7 EV score: 0.6275809715828793\n",
            "Fold : 8 EV score: 0.6188842779129688\n",
            "Fold : 9 EV score: 0.6211024340021408\n",
            "Fold : 10 EV score: 0.616842590830928\n",
            "Fold : 11 EV score: 0.6163751140753174\n",
            "Fold : 12 EV score: 0.6365732691600133\n",
            "Fold : 13 EV score: 0.6236448627481193\n",
            "Fold : 14 EV score: 0.6226335324948262\n"
          ]
        }
      ]
    },
    {
      "cell_type": "code",
      "source": [
        "test_predict = clf.predict_proba(te_tfidf)\n",
        "test_predict"
      ],
      "metadata": {
        "id": "OnEwA9eKOGvT",
        "outputId": "350a1d18-78d4-47c4-ed23-6537a8ebe97e",
        "colab": {
          "base_uri": "https://localhost:8080/"
        }
      },
      "execution_count": 18,
      "outputs": [
        {
          "output_type": "execute_result",
          "data": {
            "text/plain": [
              "array([[0.01424892, 0.18212951, 0.80362157],\n",
              "       [0.00817262, 0.7328416 , 0.25898578],\n",
              "       [0.03190984, 0.38094717, 0.587143  ],\n",
              "       [0.02651119, 0.31767898, 0.65580983],\n",
              "       [0.01859565, 0.33328082, 0.64812353],\n",
              "       [0.03962222, 0.14777993, 0.81259785],\n",
              "       [0.02343766, 0.2300684 , 0.74649394],\n",
              "       [0.02287981, 0.34273147, 0.63438872],\n",
              "       [0.06395677, 0.15991566, 0.77612756],\n",
              "       [0.0272131 , 0.2703913 , 0.70239561]])"
            ]
          },
          "metadata": {},
          "execution_count": 18
        }
      ]
    },
    {
      "cell_type": "code",
      "source": [
        "sample = pd.read_csv('/content/sample_submission.csv')\n",
        "sample.head()"
      ],
      "metadata": {
        "id": "AO2bjnywMqs2",
        "outputId": "97d75827-654b-469e-d739-46b3002fc592",
        "colab": {
          "base_uri": "https://localhost:8080/",
          "height": 206
        }
      },
      "execution_count": 19,
      "outputs": [
        {
          "output_type": "execute_result",
          "data": {
            "text/plain": [
              "   discourse_id  Ineffective  Adequate  Effective\n",
              "0  a261b6e14276         0.20      0.60       0.40\n",
              "1  5a88900e7dc1         3.00      6.00       1.00\n",
              "2  9790d835736b         1.00      2.00       3.00\n",
              "3  75ce6d68b67b         0.33      0.34       0.33\n",
              "4  93578d946723         0.01      0.24       0.47"
            ],
            "text/html": [
              "\n",
              "  <div id=\"df-10f47ee9-7518-4c43-94e7-0aefa2bc161d\">\n",
              "    <div class=\"colab-df-container\">\n",
              "      <div>\n",
              "<style scoped>\n",
              "    .dataframe tbody tr th:only-of-type {\n",
              "        vertical-align: middle;\n",
              "    }\n",
              "\n",
              "    .dataframe tbody tr th {\n",
              "        vertical-align: top;\n",
              "    }\n",
              "\n",
              "    .dataframe thead th {\n",
              "        text-align: right;\n",
              "    }\n",
              "</style>\n",
              "<table border=\"1\" class=\"dataframe\">\n",
              "  <thead>\n",
              "    <tr style=\"text-align: right;\">\n",
              "      <th></th>\n",
              "      <th>discourse_id</th>\n",
              "      <th>Ineffective</th>\n",
              "      <th>Adequate</th>\n",
              "      <th>Effective</th>\n",
              "    </tr>\n",
              "  </thead>\n",
              "  <tbody>\n",
              "    <tr>\n",
              "      <th>0</th>\n",
              "      <td>a261b6e14276</td>\n",
              "      <td>0.20</td>\n",
              "      <td>0.60</td>\n",
              "      <td>0.40</td>\n",
              "    </tr>\n",
              "    <tr>\n",
              "      <th>1</th>\n",
              "      <td>5a88900e7dc1</td>\n",
              "      <td>3.00</td>\n",
              "      <td>6.00</td>\n",
              "      <td>1.00</td>\n",
              "    </tr>\n",
              "    <tr>\n",
              "      <th>2</th>\n",
              "      <td>9790d835736b</td>\n",
              "      <td>1.00</td>\n",
              "      <td>2.00</td>\n",
              "      <td>3.00</td>\n",
              "    </tr>\n",
              "    <tr>\n",
              "      <th>3</th>\n",
              "      <td>75ce6d68b67b</td>\n",
              "      <td>0.33</td>\n",
              "      <td>0.34</td>\n",
              "      <td>0.33</td>\n",
              "    </tr>\n",
              "    <tr>\n",
              "      <th>4</th>\n",
              "      <td>93578d946723</td>\n",
              "      <td>0.01</td>\n",
              "      <td>0.24</td>\n",
              "      <td>0.47</td>\n",
              "    </tr>\n",
              "  </tbody>\n",
              "</table>\n",
              "</div>\n",
              "      <button class=\"colab-df-convert\" onclick=\"convertToInteractive('df-10f47ee9-7518-4c43-94e7-0aefa2bc161d')\"\n",
              "              title=\"Convert this dataframe to an interactive table.\"\n",
              "              style=\"display:none;\">\n",
              "        \n",
              "  <svg xmlns=\"http://www.w3.org/2000/svg\" height=\"24px\"viewBox=\"0 0 24 24\"\n",
              "       width=\"24px\">\n",
              "    <path d=\"M0 0h24v24H0V0z\" fill=\"none\"/>\n",
              "    <path d=\"M18.56 5.44l.94 2.06.94-2.06 2.06-.94-2.06-.94-.94-2.06-.94 2.06-2.06.94zm-11 1L8.5 8.5l.94-2.06 2.06-.94-2.06-.94L8.5 2.5l-.94 2.06-2.06.94zm10 10l.94 2.06.94-2.06 2.06-.94-2.06-.94-.94-2.06-.94 2.06-2.06.94z\"/><path d=\"M17.41 7.96l-1.37-1.37c-.4-.4-.92-.59-1.43-.59-.52 0-1.04.2-1.43.59L10.3 9.45l-7.72 7.72c-.78.78-.78 2.05 0 2.83L4 21.41c.39.39.9.59 1.41.59.51 0 1.02-.2 1.41-.59l7.78-7.78 2.81-2.81c.8-.78.8-2.07 0-2.86zM5.41 20L4 18.59l7.72-7.72 1.47 1.35L5.41 20z\"/>\n",
              "  </svg>\n",
              "      </button>\n",
              "      \n",
              "  <style>\n",
              "    .colab-df-container {\n",
              "      display:flex;\n",
              "      flex-wrap:wrap;\n",
              "      gap: 12px;\n",
              "    }\n",
              "\n",
              "    .colab-df-convert {\n",
              "      background-color: #E8F0FE;\n",
              "      border: none;\n",
              "      border-radius: 50%;\n",
              "      cursor: pointer;\n",
              "      display: none;\n",
              "      fill: #1967D2;\n",
              "      height: 32px;\n",
              "      padding: 0 0 0 0;\n",
              "      width: 32px;\n",
              "    }\n",
              "\n",
              "    .colab-df-convert:hover {\n",
              "      background-color: #E2EBFA;\n",
              "      box-shadow: 0px 1px 2px rgba(60, 64, 67, 0.3), 0px 1px 3px 1px rgba(60, 64, 67, 0.15);\n",
              "      fill: #174EA6;\n",
              "    }\n",
              "\n",
              "    [theme=dark] .colab-df-convert {\n",
              "      background-color: #3B4455;\n",
              "      fill: #D2E3FC;\n",
              "    }\n",
              "\n",
              "    [theme=dark] .colab-df-convert:hover {\n",
              "      background-color: #434B5C;\n",
              "      box-shadow: 0px 1px 3px 1px rgba(0, 0, 0, 0.15);\n",
              "      filter: drop-shadow(0px 1px 2px rgba(0, 0, 0, 0.3));\n",
              "      fill: #FFFFFF;\n",
              "    }\n",
              "  </style>\n",
              "\n",
              "      <script>\n",
              "        const buttonEl =\n",
              "          document.querySelector('#df-10f47ee9-7518-4c43-94e7-0aefa2bc161d button.colab-df-convert');\n",
              "        buttonEl.style.display =\n",
              "          google.colab.kernel.accessAllowed ? 'block' : 'none';\n",
              "\n",
              "        async function convertToInteractive(key) {\n",
              "          const element = document.querySelector('#df-10f47ee9-7518-4c43-94e7-0aefa2bc161d');\n",
              "          const dataTable =\n",
              "            await google.colab.kernel.invokeFunction('convertToInteractive',\n",
              "                                                     [key], {});\n",
              "          if (!dataTable) return;\n",
              "\n",
              "          const docLinkHtml = 'Like what you see? Visit the ' +\n",
              "            '<a target=\"_blank\" href=https://colab.research.google.com/notebooks/data_table.ipynb>data table notebook</a>'\n",
              "            + ' to learn more about interactive tables.';\n",
              "          element.innerHTML = '';\n",
              "          dataTable['output_type'] = 'display_data';\n",
              "          await google.colab.output.renderOutput(dataTable, element);\n",
              "          const docLink = document.createElement('div');\n",
              "          docLink.innerHTML = docLinkHtml;\n",
              "          element.appendChild(docLink);\n",
              "        }\n",
              "      </script>\n",
              "    </div>\n",
              "  </div>\n",
              "  "
            ]
          },
          "metadata": {},
          "execution_count": 19
        }
      ]
    },
    {
      "cell_type": "code",
      "source": [
        "sample.loc[:,\"Ineffective\"] = test_predict[:,0]\n",
        "sample.loc[:,\"Adequate\"] = test_predict[:,1]\n",
        "sample.loc[:,\"Effective\"] = test_predict[:,2]\n",
        "sample.to_csv('submission.csv',index=False)"
      ],
      "metadata": {
        "id": "wEDVLjymMqob"
      },
      "execution_count": 20,
      "outputs": []
    },
    {
      "cell_type": "code",
      "source": [
        ""
      ],
      "metadata": {
        "id": "L38j_mdjPJwt"
      },
      "execution_count": null,
      "outputs": []
    }
  ]
}