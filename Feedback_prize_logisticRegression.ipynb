{
  "nbformat": 4,
  "nbformat_minor": 0,
  "metadata": {
    "colab": {
      "name": "Feedback-prize-logisticRegression.ipynb",
      "provenance": [],
      "collapsed_sections": [],
      "authorship_tag": "ABX9TyOYQ7POR8/0XVEuotxzVBsl",
      "include_colab_link": true
    },
    "kernelspec": {
      "name": "python3",
      "display_name": "Python 3"
    },
    "language_info": {
      "name": "python"
    }
  },
  "cells": [
    {
      "cell_type": "markdown",
      "metadata": {
        "id": "view-in-github",
        "colab_type": "text"
      },
      "source": [
        "<a href=\"https://colab.research.google.com/github/mohmaed7777/Feedback-Prize---Predicting-Effective-Arguments/blob/main/Feedback_prize_logisticRegression.ipynb\" target=\"_parent\"><img src=\"https://colab.research.google.com/assets/colab-badge.svg\" alt=\"Open In Colab\"/></a>"
      ]
    },
    {
      "cell_type": "code",
      "execution_count": null,
      "metadata": {
        "id": "2GYCjbX5xtqE"
      },
      "outputs": [],
      "source": [
        "! pip install kaggle"
      ]
    },
    {
      "cell_type": "code",
      "source": [
        "!mkdir ~/.kaggle"
      ],
      "metadata": {
        "id": "V1ahPuixyZeL"
      },
      "execution_count": 2,
      "outputs": []
    },
    {
      "cell_type": "code",
      "source": [
        "! cp kaggle.json ~/.kaggle/"
      ],
      "metadata": {
        "id": "v_-cOWvsymP4"
      },
      "execution_count": 3,
      "outputs": []
    },
    {
      "cell_type": "code",
      "source": [
        "! chmod 600 ~/.kaggle/kaggle.json"
      ],
      "metadata": {
        "id": "p-g1rCx3ytfg"
      },
      "execution_count": 4,
      "outputs": []
    },
    {
      "cell_type": "code",
      "source": [
        "! kaggle competitions download -c feedback-prize-effectiveness"
      ],
      "metadata": {
        "colab": {
          "base_uri": "https://localhost:8080/"
        },
        "id": "lGIYrabVyxL3",
        "outputId": "a5a14ca1-e73a-47e0-8540-e188a45f41d3"
      },
      "execution_count": 5,
      "outputs": [
        {
          "output_type": "stream",
          "name": "stdout",
          "text": [
            "Downloading feedback-prize-effectiveness.zip to /content\n",
            "\r  0% 0.00/8.13M [00:00<?, ?B/s]\n",
            "\r100% 8.13M/8.13M [00:00<00:00, 349MB/s]\n"
          ]
        }
      ]
    },
    {
      "cell_type": "code",
      "source": [
        "! unzip feedback-prize-effectiveness.zip"
      ],
      "metadata": {
        "id": "zyiEsjUhyxJU"
      },
      "execution_count": null,
      "outputs": []
    },
    {
      "cell_type": "code",
      "source": [
        "# importing step: \n",
        "import numpy as np \n",
        "import pandas  as pd \n",
        "from sklearn.model_selection import StratifiedKFold\n",
        "from sklearn.feature_extraction.text import TfidfVectorizer\n",
        "from sklearn.preprocessing import OneHotEncoder, LabelEncoder\n",
        "from scipy import sparse\n",
        "from sklearn.linear_model import LogisticRegression\n",
        "from sklearn.metrics import log_loss"
      ],
      "metadata": {
        "id": "wwgHHFfOyxEa"
      },
      "execution_count": 8,
      "outputs": []
    },
    {
      "cell_type": "code",
      "source": [
        "NFOLDs = 10"
      ],
      "metadata": {
        "id": "kAcSn98Cz2bT"
      },
      "execution_count": 10,
      "outputs": []
    },
    {
      "cell_type": "code",
      "source": [
        "train_df = pd.read_csv('/content/train.csv')\n",
        "test_df = pd.read_csv('/content/test.csv')"
      ],
      "metadata": {
        "id": "gVn0T99Mz-Sq"
      },
      "execution_count": 11,
      "outputs": []
    },
    {
      "cell_type": "code",
      "source": [
        "train_df['text'] = train_df['essay_id'].apply(lambda x: open(f'/content/train/{x}.txt').read())\n",
        "test_df['text'] = test_df['essay_id'].apply(lambda x: open(f'/content/test/{x}.txt').read())\n"
      ],
      "metadata": {
        "id": "txhArkpz0ZeU"
      },
      "execution_count": 13,
      "outputs": []
    },
    {
      "cell_type": "code",
      "source": [
        "train_df.tail()"
      ],
      "metadata": {
        "colab": {
          "base_uri": "https://localhost:8080/",
          "height": 424
        },
        "id": "s2Dj4WGl2JaL",
        "outputId": "6acdc3fb-99a6-47fa-b6fb-5ec4e59daf20"
      },
      "execution_count": 15,
      "outputs": [
        {
          "output_type": "execute_result",
          "data": {
            "text/plain": [
              "       discourse_id      essay_id  \\\n",
              "36760  9f63b687e76a  FFA381E58FC6   \n",
              "36761  9d5bd7d86212  FFA381E58FC6   \n",
              "36762  f1b78becd573  FFA381E58FC6   \n",
              "36763  cc184624ca8e  FFA381E58FC6   \n",
              "36764  c8a973681feb  FFA381E58FC6   \n",
              "\n",
              "                                          discourse_text  \\\n",
              "36760  For many people they don't like only asking on...   \n",
              "36761  also people have different views and opinions ...   \n",
              "36762  Advice is something that can impact a persons ...   \n",
              "36763  someone can use everything that many people sa...   \n",
              "36764  In conclusion asking for an opinion can be ben...   \n",
              "\n",
              "             discourse_type discourse_effectiveness  \\\n",
              "36760                 Claim                Adequate   \n",
              "36761                 Claim                Adequate   \n",
              "36762              Position                Adequate   \n",
              "36763              Evidence             Ineffective   \n",
              "36764  Concluding Statement             Ineffective   \n",
              "\n",
              "                                                    text  \n",
              "36760  Some people may ask multiple people for advice...  \n",
              "36761  Some people may ask multiple people for advice...  \n",
              "36762  Some people may ask multiple people for advice...  \n",
              "36763  Some people may ask multiple people for advice...  \n",
              "36764  Some people may ask multiple people for advice...  "
            ],
            "text/html": [
              "\n",
              "  <div id=\"df-ed3ebf54-eddb-4e2a-91d5-c93fda9cd287\">\n",
              "    <div class=\"colab-df-container\">\n",
              "      <div>\n",
              "<style scoped>\n",
              "    .dataframe tbody tr th:only-of-type {\n",
              "        vertical-align: middle;\n",
              "    }\n",
              "\n",
              "    .dataframe tbody tr th {\n",
              "        vertical-align: top;\n",
              "    }\n",
              "\n",
              "    .dataframe thead th {\n",
              "        text-align: right;\n",
              "    }\n",
              "</style>\n",
              "<table border=\"1\" class=\"dataframe\">\n",
              "  <thead>\n",
              "    <tr style=\"text-align: right;\">\n",
              "      <th></th>\n",
              "      <th>discourse_id</th>\n",
              "      <th>essay_id</th>\n",
              "      <th>discourse_text</th>\n",
              "      <th>discourse_type</th>\n",
              "      <th>discourse_effectiveness</th>\n",
              "      <th>text</th>\n",
              "    </tr>\n",
              "  </thead>\n",
              "  <tbody>\n",
              "    <tr>\n",
              "      <th>36760</th>\n",
              "      <td>9f63b687e76a</td>\n",
              "      <td>FFA381E58FC6</td>\n",
              "      <td>For many people they don't like only asking on...</td>\n",
              "      <td>Claim</td>\n",
              "      <td>Adequate</td>\n",
              "      <td>Some people may ask multiple people for advice...</td>\n",
              "    </tr>\n",
              "    <tr>\n",
              "      <th>36761</th>\n",
              "      <td>9d5bd7d86212</td>\n",
              "      <td>FFA381E58FC6</td>\n",
              "      <td>also people have different views and opinions ...</td>\n",
              "      <td>Claim</td>\n",
              "      <td>Adequate</td>\n",
              "      <td>Some people may ask multiple people for advice...</td>\n",
              "    </tr>\n",
              "    <tr>\n",
              "      <th>36762</th>\n",
              "      <td>f1b78becd573</td>\n",
              "      <td>FFA381E58FC6</td>\n",
              "      <td>Advice is something that can impact a persons ...</td>\n",
              "      <td>Position</td>\n",
              "      <td>Adequate</td>\n",
              "      <td>Some people may ask multiple people for advice...</td>\n",
              "    </tr>\n",
              "    <tr>\n",
              "      <th>36763</th>\n",
              "      <td>cc184624ca8e</td>\n",
              "      <td>FFA381E58FC6</td>\n",
              "      <td>someone can use everything that many people sa...</td>\n",
              "      <td>Evidence</td>\n",
              "      <td>Ineffective</td>\n",
              "      <td>Some people may ask multiple people for advice...</td>\n",
              "    </tr>\n",
              "    <tr>\n",
              "      <th>36764</th>\n",
              "      <td>c8a973681feb</td>\n",
              "      <td>FFA381E58FC6</td>\n",
              "      <td>In conclusion asking for an opinion can be ben...</td>\n",
              "      <td>Concluding Statement</td>\n",
              "      <td>Ineffective</td>\n",
              "      <td>Some people may ask multiple people for advice...</td>\n",
              "    </tr>\n",
              "  </tbody>\n",
              "</table>\n",
              "</div>\n",
              "      <button class=\"colab-df-convert\" onclick=\"convertToInteractive('df-ed3ebf54-eddb-4e2a-91d5-c93fda9cd287')\"\n",
              "              title=\"Convert this dataframe to an interactive table.\"\n",
              "              style=\"display:none;\">\n",
              "        \n",
              "  <svg xmlns=\"http://www.w3.org/2000/svg\" height=\"24px\"viewBox=\"0 0 24 24\"\n",
              "       width=\"24px\">\n",
              "    <path d=\"M0 0h24v24H0V0z\" fill=\"none\"/>\n",
              "    <path d=\"M18.56 5.44l.94 2.06.94-2.06 2.06-.94-2.06-.94-.94-2.06-.94 2.06-2.06.94zm-11 1L8.5 8.5l.94-2.06 2.06-.94-2.06-.94L8.5 2.5l-.94 2.06-2.06.94zm10 10l.94 2.06.94-2.06 2.06-.94-2.06-.94-.94-2.06-.94 2.06-2.06.94z\"/><path d=\"M17.41 7.96l-1.37-1.37c-.4-.4-.92-.59-1.43-.59-.52 0-1.04.2-1.43.59L10.3 9.45l-7.72 7.72c-.78.78-.78 2.05 0 2.83L4 21.41c.39.39.9.59 1.41.59.51 0 1.02-.2 1.41-.59l7.78-7.78 2.81-2.81c.8-.78.8-2.07 0-2.86zM5.41 20L4 18.59l7.72-7.72 1.47 1.35L5.41 20z\"/>\n",
              "  </svg>\n",
              "      </button>\n",
              "      \n",
              "  <style>\n",
              "    .colab-df-container {\n",
              "      display:flex;\n",
              "      flex-wrap:wrap;\n",
              "      gap: 12px;\n",
              "    }\n",
              "\n",
              "    .colab-df-convert {\n",
              "      background-color: #E8F0FE;\n",
              "      border: none;\n",
              "      border-radius: 50%;\n",
              "      cursor: pointer;\n",
              "      display: none;\n",
              "      fill: #1967D2;\n",
              "      height: 32px;\n",
              "      padding: 0 0 0 0;\n",
              "      width: 32px;\n",
              "    }\n",
              "\n",
              "    .colab-df-convert:hover {\n",
              "      background-color: #E2EBFA;\n",
              "      box-shadow: 0px 1px 2px rgba(60, 64, 67, 0.3), 0px 1px 3px 1px rgba(60, 64, 67, 0.15);\n",
              "      fill: #174EA6;\n",
              "    }\n",
              "\n",
              "    [theme=dark] .colab-df-convert {\n",
              "      background-color: #3B4455;\n",
              "      fill: #D2E3FC;\n",
              "    }\n",
              "\n",
              "    [theme=dark] .colab-df-convert:hover {\n",
              "      background-color: #434B5C;\n",
              "      box-shadow: 0px 1px 3px 1px rgba(0, 0, 0, 0.15);\n",
              "      filter: drop-shadow(0px 1px 2px rgba(0, 0, 0, 0.3));\n",
              "      fill: #FFFFFF;\n",
              "    }\n",
              "  </style>\n",
              "\n",
              "      <script>\n",
              "        const buttonEl =\n",
              "          document.querySelector('#df-ed3ebf54-eddb-4e2a-91d5-c93fda9cd287 button.colab-df-convert');\n",
              "        buttonEl.style.display =\n",
              "          google.colab.kernel.accessAllowed ? 'block' : 'none';\n",
              "\n",
              "        async function convertToInteractive(key) {\n",
              "          const element = document.querySelector('#df-ed3ebf54-eddb-4e2a-91d5-c93fda9cd287');\n",
              "          const dataTable =\n",
              "            await google.colab.kernel.invokeFunction('convertToInteractive',\n",
              "                                                     [key], {});\n",
              "          if (!dataTable) return;\n",
              "\n",
              "          const docLinkHtml = 'Like what you see? Visit the ' +\n",
              "            '<a target=\"_blank\" href=https://colab.research.google.com/notebooks/data_table.ipynb>data table notebook</a>'\n",
              "            + ' to learn more about interactive tables.';\n",
              "          element.innerHTML = '';\n",
              "          dataTable['output_type'] = 'display_data';\n",
              "          await google.colab.output.renderOutput(dataTable, element);\n",
              "          const docLink = document.createElement('div');\n",
              "          docLink.innerHTML = docLinkHtml;\n",
              "          element.appendChild(docLink);\n",
              "        }\n",
              "      </script>\n",
              "    </div>\n",
              "  </div>\n",
              "  "
            ]
          },
          "metadata": {},
          "execution_count": 15
        }
      ]
    },
    {
      "cell_type": "code",
      "source": [
        "effectiveness_map = {'Ineffective':0, 'Adequate':1, 'Effective':2}\n",
        "train_df['target'] = train_df['discourse_effectiveness'].map(effectiveness_map)"
      ],
      "metadata": {
        "id": "IcC_YOeb2JPZ"
      },
      "execution_count": 16,
      "outputs": []
    },
    {
      "cell_type": "code",
      "source": [
        "train_df = train_df.reset_index(drop=True)"
      ],
      "metadata": {
        "id": "sUhUP7wX2JMb"
      },
      "execution_count": 17,
      "outputs": []
    },
    {
      "cell_type": "code",
      "source": [
        "skfold = StratifiedKFold(n_splits=NFOLDs,shuffle=True,random_state=NFOLDs)\n",
        "for i,(train_index, test_index) in enumerate(skfold.split(train_df, train_df[\"target\"])):\n",
        "    train_df.loc[test_index,\"fold\"] = i\n",
        "print(train_df.fold.value_counts())   "
      ],
      "metadata": {
        "colab": {
          "base_uri": "https://localhost:8080/"
        },
        "id": "fw6uP6-n3HEj",
        "outputId": "591f41b6-bf3e-4b60-a6d1-9685c5846f6a"
      },
      "execution_count": 20,
      "outputs": [
        {
          "output_type": "stream",
          "name": "stdout",
          "text": [
            "3.0    3677\n",
            "2.0    3677\n",
            "1.0    3677\n",
            "4.0    3677\n",
            "0.0    3677\n",
            "8.0    3676\n",
            "9.0    3676\n",
            "6.0    3676\n",
            "5.0    3676\n",
            "7.0    3676\n",
            "Name: fold, dtype: int64\n"
          ]
        }
      ]
    },
    {
      "cell_type": "code",
      "source": [
        "preds = []"
      ],
      "metadata": {
        "id": "CWIrbomd8HTc"
      },
      "execution_count": null,
      "outputs": []
    },
    {
      "cell_type": "code",
      "source": [
        "for n_fold in range(NFOLDs):\n",
        "  train_df = train_df[train_df['fold'] != n_fold]\n",
        "  dataset_eval_= train_df[train_df['fold'] == n_fold]\n",
        "\n",
        "  tf = TfidfVectorizer(ngram_range=(1,2), norm='l2', smooth_idf=True)\n",
        "  tr_dicourse_tfidf = tf.fit_transform(train_df['discourse_text'])\n",
        "  eval_discourse_tfidf = tf.fit_transform(dataset_eval_['discourse_text'])\n",
        "  te_discourse_tfidf = tf.transform(test_df['discourse_text'])\n",
        "\n",
        "  # Text : \n",
        "  tf = TfidfVectorizer(ngram_range=(1,2), norm='l2', smooth_idf=True)\n",
        "  tf_text_tfidf = tf.fit_transform(train_df['text'])\n",
        "  eval_text_tfidf = tf.fit_transform(dataset_eval_['text'])\n",
        "  te_text_tfidf = tf.fit_transform(test_df['text'])\n",
        "\n",
        "  # discourse_type : \n",
        "  ohe = OneHotEncoder()\n",
        "  train_type_ohe = sparse.crs_matrix(ohe.fit_transform(train_df['discourse_type'].values.reshape(-1,1)))\n",
        "  eval_type_ohe = sparse.csr_matrix(ohe.transform(dataset_eval_['discourse_type'].values.reshape(-1,1)))\n",
        "  test_type_ohe =  sparse.csr_matrix(ohe.transform(test_df[\"discourse_type\"].values.reshape(-1,1)))\n",
        "\n",
        "  # Stack each vector representions : \n",
        "  tr_tfidf = sparse.hstack((train_type_ohe, ))\n",
        "\n",
        "\n"
      ],
      "metadata": {
        "id": "9aYPyGMk8HJk"
      },
      "execution_count": null,
      "outputs": []
    },
    {
      "cell_type": "code",
      "source": [
        ""
      ],
      "metadata": {
        "id": "sow1fbA08HG9"
      },
      "execution_count": null,
      "outputs": []
    }
  ]
}